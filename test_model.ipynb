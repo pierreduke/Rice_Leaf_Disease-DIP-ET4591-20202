{
  "nbformat": 4,
  "nbformat_minor": 0,
  "metadata": {
    "colab": {
      "name": "test_model.ipynb",
      "provenance": [],
      "mount_file_id": "1deSWpJT0O2qQDXgY08Xj4U6007qEhoc5",
      "authorship_tag": "ABX9TyOTUHQYvgb309Vd7zWIWMDB",
      "include_colab_link": true
    },
    "kernelspec": {
      "name": "python3",
      "display_name": "Python 3"
    },
    "language_info": {
      "name": "python"
    }
  },
  "cells": [
    {
      "cell_type": "markdown",
      "metadata": {
        "id": "view-in-github",
        "colab_type": "text"
      },
      "source": [
        "<a href=\"https://colab.research.google.com/github/pierreduke/Rice_Leaf_Disease-DIP-ET4591-20202/blob/main/test_model.ipynb\" target=\"_parent\"><img src=\"https://colab.research.google.com/assets/colab-badge.svg\" alt=\"Open In Colab\"/></a>"
      ]
    },
    {
      "cell_type": "code",
      "metadata": {
        "id": "ytyzeKgAYHmT"
      },
      "source": [
        "# !unzip /content/drive/MyDrive/Rice.zip"
      ],
      "execution_count": 1,
      "outputs": []
    },
    {
      "cell_type": "code",
      "metadata": {
        "id": "WvqUvkwSW6Xz"
      },
      "source": [
        "#Khai bao thu vien\n",
        "from sklearn.preprocessing import LabelEncoder\n",
        "from keras.optimizers import Adam\n",
        "from keras.utils import np_utils\n",
        "from keras.layers.core import Dropout\n",
        "from imutils import paths\n",
        "from google.colab.patches import cv2_imshow\n",
        "from keras.models import load_model\n",
        "import numpy as np\n",
        "import pickle\n",
        "import cv2\n",
        "import os"
      ],
      "execution_count": 2,
      "outputs": []
    },
    {
      "cell_type": "code",
      "metadata": {
        "id": "tuVYq071U-jA"
      },
      "source": [
        "model = load_model('/content/drive/MyDrive/ImgProc/XLA_DenseNet121.h5')"
      ],
      "execution_count": 3,
      "outputs": []
    },
    {
      "cell_type": "code",
      "metadata": {
        "id": "xPq_rRwdaZXP"
      },
      "source": [
        "#Khoi tao du lieu test\n",
        "imagePaths_test = list(paths.list_images('/content/Rot_Img/test'))\n",
        "data_test = []\n",
        "labels_test = []\n",
        "for path_test in imagePaths_test:\n",
        "    label2 = path_test.split(os.path.sep)[-2]\n",
        "    image2 = cv2.imread(path_test)\n",
        "    image2 = cv2.resize(image2, (64,64))\n",
        "    data_test.append(image2)\n",
        "    labels_test.append(label2)\n",
        "data_test = np.array(data_test, dtype=\"float\") / 255.0\n",
        "\n",
        "#one-hot label\n",
        "le_test = LabelEncoder()\n",
        "labels_test = le_test.fit_transform(labels_test)\n",
        "labels_test = np_utils.to_categorical(labels_test, 3)"
      ],
      "execution_count": 4,
      "outputs": []
    },
    {
      "cell_type": "code",
      "metadata": {
        "id": "Es9AIOEeMhR9"
      },
      "source": [
        "#set du lieu test\n",
        "X_test = data_test\n",
        "y_test = labels_test"
      ],
      "execution_count": 13,
      "outputs": []
    },
    {
      "cell_type": "code",
      "metadata": {
        "id": "PAba3NITPX2r"
      },
      "source": [
        "y_pred = model.predict(X_test)"
      ],
      "execution_count": 14,
      "outputs": []
    },
    {
      "cell_type": "code",
      "metadata": {
        "colab": {
          "base_uri": "https://localhost:8080/"
        },
        "id": "BPgPI6mUpVRY",
        "outputId": "4587660a-5eb2-4131-c2db-f00bd6fd9030"
      },
      "source": [
        "from sklearn.metrics import classification_report\n",
        "print(classification_report(y_test.argmax(axis=-1), y_pred.argmax(axis=-1), target_names=le_test.classes_))"
      ],
      "execution_count": 15,
      "outputs": [
        {
          "output_type": "stream",
          "text": [
            "                       precision    recall  f1-score   support\n",
            "\n",
            "Bacterial leaf blight       1.00      0.98      0.99        90\n",
            "           Brown spot       0.99      0.93      0.96        90\n",
            "            Leaf smut       0.92      0.99      0.95        90\n",
            "\n",
            "             accuracy                           0.97       270\n",
            "            macro avg       0.97      0.97      0.97       270\n",
            "         weighted avg       0.97      0.97      0.97       270\n",
            "\n"
          ],
          "name": "stdout"
        }
      ]
    },
    {
      "cell_type": "code",
      "metadata": {
        "id": "h_JIgoSwciyf",
        "colab": {
          "base_uri": "https://localhost:8080/"
        },
        "outputId": "72582241-e41c-46fd-82c7-ea15b4eba3a1"
      },
      "source": [
        "print(\"So sanh test\")\n",
        "print(np.argmax(y_test, axis=-1))\n",
        "print(np.argmax(y_pred, axis=-1))"
      ],
      "execution_count": 16,
      "outputs": [
        {
          "output_type": "stream",
          "text": [
            "So sanh test\n",
            "[2 2 2 2 2 2 2 2 2 2 2 2 2 2 2 2 2 2 2 2 2 2 2 2 2 2 2 2 2 2 2 2 2 2 2 2 2\n",
            " 2 2 2 2 2 2 2 2 2 2 2 2 2 2 2 2 2 2 2 2 2 2 2 2 2 2 2 2 2 2 2 2 2 2 2 2 2\n",
            " 2 2 2 2 2 2 2 2 2 2 2 2 2 2 2 2 1 1 1 1 1 1 1 1 1 1 1 1 1 1 1 1 1 1 1 1 1\n",
            " 1 1 1 1 1 1 1 1 1 1 1 1 1 1 1 1 1 1 1 1 1 1 1 1 1 1 1 1 1 1 1 1 1 1 1 1 1\n",
            " 1 1 1 1 1 1 1 1 1 1 1 1 1 1 1 1 1 1 1 1 1 1 1 1 1 1 1 1 1 1 1 1 0 0 0 0 0\n",
            " 0 0 0 0 0 0 0 0 0 0 0 0 0 0 0 0 0 0 0 0 0 0 0 0 0 0 0 0 0 0 0 0 0 0 0 0 0\n",
            " 0 0 0 0 0 0 0 0 0 0 0 0 0 0 0 0 0 0 0 0 0 0 0 0 0 0 0 0 0 0 0 0 0 0 0 0 0\n",
            " 0 0 0 0 0 0 0 0 0 0 0]\n",
            "[2 2 2 2 2 2 2 2 2 2 2 2 2 2 2 2 2 2 2 2 2 2 2 2 2 2 2 2 2 2 2 2 2 2 2 2 2\n",
            " 2 2 2 2 2 2 2 2 2 2 2 2 2 2 2 2 2 2 2 2 2 2 2 2 2 2 2 2 2 2 2 2 2 2 2 2 2\n",
            " 2 2 2 2 2 2 2 2 2 2 2 2 2 2 1 2 1 2 2 1 1 1 1 1 1 1 1 1 1 1 1 1 1 1 1 1 1\n",
            " 1 1 1 1 1 1 1 1 1 1 2 1 1 1 1 1 1 1 1 1 1 1 1 1 1 1 1 1 1 1 1 1 1 2 1 1 1\n",
            " 1 1 1 1 1 1 1 1 1 1 1 1 1 1 1 1 2 1 1 1 1 1 1 1 1 1 1 2 1 1 1 1 0 0 0 0 0\n",
            " 0 2 0 0 0 0 0 0 0 0 0 0 0 0 0 0 0 0 0 0 0 0 0 0 0 0 0 0 2 0 0 0 0 0 0 0 0\n",
            " 0 0 0 0 0 0 0 0 0 0 0 0 0 0 0 0 0 0 0 0 0 0 0 0 0 0 0 0 0 0 0 0 0 0 0 0 0\n",
            " 0 0 0 0 0 0 0 0 0 0 0]\n"
          ],
          "name": "stdout"
        }
      ]
    },
    {
      "cell_type": "code",
      "metadata": {
        "id": "0BTSxEjFOpNb",
        "colab": {
          "base_uri": "https://localhost:8080/"
        },
        "outputId": "57614239-9e16-4736-cac2-32706b98462c"
      },
      "source": [
        "score_test = model.evaluate(X_test, y_test)\n",
        "print('Score test = ', score_test)"
      ],
      "execution_count": 17,
      "outputs": [
        {
          "output_type": "stream",
          "text": [
            "9/9 [==============================] - 4s 405ms/step - loss: 0.0928 - accuracy: 0.9667\n",
            "Score test =  [0.09281083941459656, 0.9666666388511658]\n"
          ],
          "name": "stdout"
        }
      ]
    },
    {
      "cell_type": "code",
      "metadata": {
        "id": "0mRQjKAmCHHR"
      },
      "source": [
        "def define_label(x):\n",
        "  if x == 0:\n",
        "    print('Bacterial Leaf Blight')\n",
        "  if x == 1:\n",
        "    print('Brown spot');\n",
        "  if x == 2:\n",
        "    print('Leaf smut');"
      ],
      "execution_count": 63,
      "outputs": []
    },
    {
      "cell_type": "code",
      "metadata": {
        "colab": {
          "base_uri": "https://localhost:8080/",
          "height": 146
        },
        "id": "BLtl8v4fQY_a",
        "outputId": "df51939d-a1b4-482a-a6f3-0960ee35f6cd"
      },
      "source": [
        "img = cv2.imread('/content/drive/MyDrive/ImgProc/ls4.png')\n",
        "img = cv2.resize(img,(64,64))\n",
        "cv2_imshow(img)\n",
        "img = img.reshape(1,64,64,3)\n",
        "data_leaf = np.array(img, dtype = 'float') /255.0\n",
        "one = model.predict(data_leaf)\n",
        "print(one)\n",
        "x = np.argmax(one)\n",
        "print(x)\n",
        "print(define_label(x))"
      ],
      "execution_count": 64,
      "outputs": [
        {
          "output_type": "display_data",
          "data": {
            "image/png": "[encoded data removed]",
            "text/plain": [
              "<PIL.Image.Image image mode=RGB size=64x64 at 0x7F0938FBA910>"
            ]
          },
          "metadata": {
            "tags": []
          }
        },
        {
          "output_type": "stream",
          "text": [
            "[[8.8064101e-15 7.9128405e-12 1.0000000e+00]]\n",
            "2\n",
            "Leaf smut\n",
            "None\n"
          ],
          "name": "stdout"
        }
      ]
    },
    {
      "cell_type": "code",
      "metadata": {
        "colab": {
          "base_uri": "https://localhost:8080/",
          "height": 162
        },
        "id": "BU3lh-BHL8KK",
        "outputId": "6d70957e-0497-4782-f003-7619bd36f9d4"
      },
      "source": [
        "img1 = cv2.imread('/content/drive/MyDrive/ImgProc/Ba1.jpg')\n",
        "img1 = cv2.resize(img1,(64,64))\n",
        "cv2_imshow(img1)\n",
        "img1 = img1.reshape(1,64,64,3)\n",
        "data_leaf1 = np.array(img1, dtype = 'float') /255.0\n",
        "one1 = model.predict(data_leaf1)\n",
        "print(one1)\n",
        "x1 = np.argmax(one1)\n",
        "print(x1)\n",
        "print(define_label(x1))"
      ],
      "execution_count": 65,
      "outputs": [
        {
          "output_type": "display_data",
          "data": {
            "image/png": "[encoded data removed]",
            "text/plain": [
              "<PIL.Image.Image image mode=RGB size=64x64 at 0x7F0938FBA4D0>"
            ]
          },
          "metadata": {
            "tags": []
          }
        },
        {
          "output_type": "stream",
          "text": [
            "[[9.4718772e-01 3.4467251e-07 5.2811902e-02]]\n",
            "0\n",
            "Bacterial Leaf Blight\n",
            "\n",
            "None\n"
          ],
          "name": "stdout"
        }
      ]
    },
    {
      "cell_type": "code",
      "metadata": {
        "id": "kLydmKoIWGrg",
        "colab": {
          "base_uri": "https://localhost:8080/",
          "height": 146
        },
        "outputId": "45c576c6-cb13-423a-a3c6-2f7e7e8f84f8"
      },
      "source": [
        "img2 = cv2.imread('/content/drive/MyDrive/ImgProc/br5.png')\n",
        "img2 = cv2.resize(img2,(64,64))\n",
        "cv2_imshow(img2)\n",
        "img2 = img2.reshape(1,64,64,3)\n",
        "data_leaf2 = np.array(img2, dtype = 'float') /255.0\n",
        "one2 = model.predict(data_leaf2)\n",
        "print(one2)\n",
        "x2 = np.argmax(one)\n",
        "print(x2)\n",
        "print(define_label(x2))"
      ],
      "execution_count": 59,
      "outputs": [
        {
          "output_type": "display_data",
          "data": {
            "image/png": "[encoded data removed]",
            "text/plain": [
              "<PIL.Image.Image image mode=RGB size=64x64 at 0x7F09390CED10>"
            ]
          },
          "metadata": {
            "tags": []
          }
        },
        {
          "output_type": "stream",
          "text": [
            "[[0.00114497 0.60153985 0.39731517]]\n",
            "2\n",
            "Leaf smut\n",
            "None\n"
          ],
          "name": "stdout"
        }
      ]
    },
    {
      "cell_type": "code",
      "metadata": {
        "id": "atfC0I-h_h4a"
      },
      "source": [
        ""
      ],
      "execution_count": null,
      "outputs": []
    }
  ]
}